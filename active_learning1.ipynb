{
 "cells": [
  {
   "cell_type": "markdown",
   "metadata": {
    "slideshow": {
     "slide_type": "slide"
    }
   },
   "source": [
    "# 准备工作"
   ]
  },
  {
   "cell_type": "code",
   "execution_count": 1,
   "metadata": {
    "scrolled": true,
    "slideshow": {
     "slide_type": "skip"
    }
   },
   "outputs": [
    {
     "name": "stdout",
     "output_type": "stream",
     "text": [
      "Looking in indexes: https://pypi.tuna.tsinghua.edu.cn/simple\n",
      "Requirement already satisfied: scikit-learn in c:\\users\\kelen\\appdata\\roaming\\python\\python36\\site-packages (0.20.0)\n",
      "Requirement already satisfied: numpy in c:\\users\\kelen\\appdata\\roaming\\python\\python36\\site-packages (1.15.4)\n",
      "Requirement already satisfied: pandas in d:\\program files\\anaconda2\\envs\\py36\\lib\\site-packages (0.20.3)\n",
      "Requirement already satisfied: matplotlib in d:\\program files\\anaconda2\\envs\\py36\\lib\\site-packages (2.1.2)\n",
      "Requirement already satisfied: scipy>=0.13.3 in d:\\program files\\anaconda2\\envs\\py36\\lib\\site-packages (from scikit-learn) (1.1.0)\n",
      "Requirement already satisfied: python-dateutil>=2 in d:\\program files\\anaconda2\\envs\\py36\\lib\\site-packages (from pandas) (2.6.1)\n",
      "Requirement already satisfied: pytz>=2011k in d:\\program files\\anaconda2\\envs\\py36\\lib\\site-packages (from pandas) (2017.3)\n",
      "Requirement already satisfied: six>=1.10 in d:\\program files\\anaconda2\\envs\\py36\\lib\\site-packages (from matplotlib) (1.10.0)\n",
      "Requirement already satisfied: cycler>=0.10 in d:\\program files\\anaconda2\\envs\\py36\\lib\\site-packages (from matplotlib) (0.10.0)\n",
      "Requirement already satisfied: pyparsing!=2.0.4,!=2.1.2,!=2.1.6,>=2.0.1 in d:\\program files\\anaconda2\\envs\\py36\\lib\\site-packages (from matplotlib) (2.2.0)\n"
     ]
    },
    {
     "name": "stderr",
     "output_type": "stream",
     "text": [
      "You are using pip version 18.0, however version 18.1 is available.\n",
      "You should consider upgrading via the 'python -m pip install --upgrade pip' command.\n"
     ]
    }
   ],
   "source": [
    "# 若要在binder中执行这个notebook，请先执行下面的指令来安装依赖包\n",
    "!pip install scikit-learn numpy pandas matplotlib"
   ]
  },
  {
   "cell_type": "markdown",
   "metadata": {},
   "source": [
    "假设我们正要完成手写数字识别的任务。我们可以使用著名的mnist数据集来训练这样的机器学习模型。"
   ]
  },
  {
   "cell_type": "code",
   "execution_count": 2,
   "metadata": {
    "slideshow": {
     "slide_type": "subslide"
    }
   },
   "outputs": [],
   "source": [
    "import numpy as np\n",
    "import pandas as pd\n",
    "import matplotlib.pyplot as plt \n",
    "np.random.seed(1)               # reproduce the result\n",
    "import warnings\n",
    "warnings.filterwarnings(\"ignore\")\n",
    "from sklearn.datasets import load_digits"
   ]
  },
  {
   "cell_type": "code",
   "execution_count": 3,
   "metadata": {
    "slideshow": {
     "slide_type": "skip"
    }
   },
   "outputs": [
    {
     "name": "stdout",
     "output_type": "stream",
     "text": [
      "(1797, 64)\n"
     ]
    }
   ],
   "source": [
    "digits = load_digits()\n",
    "print(digits.data.shape)"
   ]
  },
  {
   "cell_type": "markdown",
   "metadata": {
    "slideshow": {
     "slide_type": "subslide"
    }
   },
   "source": [
    "总共有1797个数字，每个数字使用一个64维的向量表示"
   ]
  },
  {
   "cell_type": "code",
   "execution_count": 4,
   "metadata": {},
   "outputs": [
    {
     "data": {
      "text/plain": [
       "<matplotlib.figure.Figure at 0x1f3efa088d0>"
      ]
     },
     "metadata": {},
     "output_type": "display_data"
    },
    {
     "data": {
      "image/png": "[encoded data removed]",
      "text/plain": [
       "<matplotlib.figure.Figure at 0x1f3ec4ab5c0>"
      ]
     },
     "metadata": {},
     "output_type": "display_data"
    }
   ],
   "source": [
    "plt.gray() \n",
    "plt.matshow(digits.images[0]) \n",
    "plt.show() "
   ]
  },
  {
   "cell_type": "code",
   "execution_count": 5,
   "metadata": {
    "slideshow": {
     "slide_type": "notes"
    }
   },
   "outputs": [],
   "source": [
    "x = digits.data\n",
    "y = digits.target"
   ]
  },
  {
   "cell_type": "markdown",
   "metadata": {
    "slideshow": {
     "slide_type": "slide"
    }
   },
   "source": [
    "# 效果检验"
   ]
  },
  {
   "cell_type": "markdown",
   "metadata": {
    "slideshow": {
     "slide_type": "-"
    }
   },
   "source": [
    "先来看看使用完全数据集训练的模型能够达到什么样的效果（这里暂不区分训练测试集）"
   ]
  },
  {
   "cell_type": "code",
   "execution_count": 6,
   "metadata": {},
   "outputs": [
    {
     "data": {
      "text/plain": [
       "0.993322203672788"
      ]
     },
     "execution_count": 6,
     "metadata": {},
     "output_type": "execute_result"
    }
   ],
   "source": [
    "from sklearn.linear_model import LogisticRegression\n",
    "clf = LogisticRegression()\n",
    "clf.fit(x,y)\n",
    "clf.score(x,y)"
   ]
  },
  {
   "cell_type": "markdown",
   "metadata": {
    "slideshow": {
     "slide_type": "subslide"
    }
   },
   "source": [
    "然而，要想得到完全数据，我们需要标注1797个数字，这是比较吃力的。这还只是一个很小的玩具数据集，对于更大的数据集，数量级数以百万计，我们又怎能标的过来？\n",
    "\n",
    "那么，我们能不能**只标注一小部分数据**，比如说3%(50个数字左右),让它也达到不错的效果？看看效果如何。"
   ]
  },
  {
   "cell_type": "code",
   "execution_count": 7,
   "metadata": {},
   "outputs": [
    {
     "data": {
      "text/plain": [
       "0.7918753478018921"
      ]
     },
     "execution_count": 7,
     "metadata": {},
     "output_type": "execute_result"
    }
   ],
   "source": [
    "clf2 = LogisticRegression()\n",
    "chosen_ids = np.random.choice(range(len(x)),50,replace=False)\n",
    "clf2.fit(x[chosen_ids],y[chosen_ids])\n",
    "clf2.score(x,y)"
   ]
  },
  {
   "cell_type": "markdown",
   "metadata": {
    "slideshow": {
     "slide_type": "fragment"
    }
   },
   "source": [
    "效果下降了很多，这还只是一个简单的任务，对于更难的任务模型的表现还会更差，那么我们就没有办法节省劳动力（偷懒）了吗？\n",
    "\n",
    "非也，我们还有**主动学习**。"
   ]
  },
  {
   "cell_type": "markdown",
   "metadata": {
    "slideshow": {
     "slide_type": "slide"
    }
   },
   "source": [
    "# 主动学习"
   ]
  },
  {
   "cell_type": "markdown",
   "metadata": {},
   "source": [
    "何谓主动学习？这里我采用一种通俗的讲法：\n",
    "\n",
    "想象你面对百万大军，要想打败他们未必需要将其全部剿灭，有时只需要斩其**上将**首级即可。\n",
    "\n",
    "主动学习做的，就是帮助我们找到那个“上将”，解决重点问题，达到事半功倍的效果。看下面的图："
   ]
  },
  {
   "cell_type": "markdown",
   "metadata": {
    "slideshow": {
     "slide_type": "subslide"
    }
   },
   "source": [
    "![Fig1](https://img-blog.csdnimg.cn/20181213203559446.jpg) "
   ]
  },
  {
   "cell_type": "markdown",
   "metadata": {},
   "source": [
    "左图中红绿代表两种数据。现在我们只能标注其中有限个数据来训练分类器。中间的图显示的就是随机标注的样本和得到的分界线，准确率大约为70%。而右图就是主动学习方法找到的标注点，因为这些点几乎构成了完美分界线的边界，所以使用与中图同样的样本数，它能够取得90%左右的准确率！"
   ]
  },
  {
   "cell_type": "markdown",
   "metadata": {
    "slideshow": {
     "slide_type": "subslide"
    }
   },
   "source": [
    "那么我们怎么找到这些关键的点呢？让我们从上例来考虑，上面找到的标注点都在中间区域，实际上都是相对比较**容易混淆的、难以确定类别的**样本。我们的目标就是找到这些样本。**分类器的预测概率**就可以帮助我们衡量这些特性，于是就有了下面的寻找策略："
   ]
  },
  {
   "cell_type": "markdown",
   "metadata": {},
   "source": [
    "- **RS策略**：随机选择，作为对照。\n",
    "- **LC策略**：寻找分类器最没有信心的预测样本，即预测的最可能类别的概率也很低的样本。\n",
    "- **BT策略**：寻找分类器最“左右为难”的预测样本，即预测的最可能的两个类别的概率很接近的样本。"
   ]
  },
  {
   "cell_type": "markdown",
   "metadata": {
    "slideshow": {
     "slide_type": "slide"
    }
   },
   "source": [
    "下面用代码实验和验证这些策略的效果：\n",
    "\n",
    "我们进行10批5个样本的标注，对于不同策略选出的样本，使用直接抽取已知标签的方法来模拟手动标注。来看看随着标注的进行，模型的表现如何改善，以及其最终的效果。\n"
   ]
  },
  {
   "cell_type": "code",
   "execution_count": 8,
   "metadata": {
    "slideshow": {
     "slide_type": "notes"
    }
   },
   "outputs": [],
   "source": [
    "batch_size = 5\n",
    "rounds = 10"
   ]
  },
  {
   "cell_type": "code",
   "execution_count": 9,
   "metadata": {
    "slideshow": {
     "slide_type": "subslide"
    }
   },
   "outputs": [],
   "source": [
    "def RS(proba, batch_size):\n",
    "    return np.random.choice(range(proba.shape[0]),batch_size,replace=False)\n",
    "\n",
    "def LC(proba, batch_size):\n",
    "    return np.argsort(np.max(proba,axis=1))[:batch_size]\n",
    "\n",
    "def BT(proba, batch_size):\n",
    "    sorted_proba = np.sort(proba,axis=1)\n",
    "    return np.argsort(sorted_proba[:,-1]-sorted_proba[:,-2])[:batch_size]"
   ]
  },
  {
   "cell_type": "code",
   "execution_count": 10,
   "metadata": {
    "slideshow": {
     "slide_type": "subslide"
    }
   },
   "outputs": [],
   "source": [
    "strategies = {\"RS\":RS,\"LC\":LC,\"BT\":BT}\n",
    "results = {\"RS\":[],\"LC\":[],\"BT\":[]}\n",
    "for type0 in strategies:\n",
    "    clf = LogisticRegression()\n",
    "    anno_batch = RS(x,batch_size)    # 第一批标注样本只能随机选取\n",
    "    x_train = x[anno_batch]\n",
    "    y_train = y[anno_batch]\n",
    "    for i in range(rounds-1):\n",
    "        clf.fit(x_train,y_train)\n",
    "        prec = clf.score(x,y)\n",
    "        results[type0].append(prec)\n",
    "        proba = clf.predict_proba(x)\n",
    "        stategy0 = strategies[type0]      # 后面采用不同策略\n",
    "        anno_batch = stategy0(proba,batch_size)\n",
    "        x_train = np.concatenate([x_train,x[anno_batch]])\n",
    "        y_train = np.concatenate([y_train,y[anno_batch]])\n",
    "        \n",
    "    prec = clf.score(x,y)\n",
    "    results[type0].append(prec)"
   ]
  },
  {
   "cell_type": "code",
   "execution_count": 11,
   "metadata": {
    "slideshow": {
     "slide_type": "subslide"
    }
   },
   "outputs": [
    {
     "data": {
      "image/png": "[encoded data removed]",
      "text/plain": [
       "<matplotlib.figure.Figure at 0x1f3e627e048>"
      ]
     },
     "metadata": {},
     "output_type": "display_data"
    }
   ],
   "source": [
    "pd.DataFrame(results).plot()\n",
    "plt.ylabel(\"Accuracy\")\n",
    "plt.xlabel(\"epoches\")\n",
    "plt.show()"
   ]
  },
  {
   "cell_type": "markdown",
   "metadata": {},
   "source": [
    "以上只是一次随机实验的结果，受每一批的具体样本影响而有一些波动。不过进行多次实验也可以看到，两种主动学习方法利用同样多的样本，却能够达到接近90%的准确率。确实比RS更胜一筹，我们可以使用这个技术来降低达到一定准确度所需的标注量。妈妈再也不用担心我手动标注数据的辛苦了！"
   ]
  },
  {
   "cell_type": "markdown",
   "metadata": {
    "slideshow": {
     "slide_type": "slide"
    }
   },
   "source": [
    "# 体验手动标注"
   ]
  },
  {
   "cell_type": "markdown",
   "metadata": {},
   "source": [
    "下面我也写了一段真正手动标注数据的代码，有兴趣的也不妨亲身尝试一下，用可以接受的时间量标注，打造出一个表现良好的模型："
   ]
  },
  {
   "cell_type": "code",
   "execution_count": 18,
   "metadata": {
    "slideshow": {
     "slide_type": "skip"
    }
   },
   "outputs": [],
   "source": [
    "from IPython import display\n",
    "def human_annotate(batch_ids):\n",
    "    ret = []\n",
    "    plt.gray()\n",
    "    for id0 in batch_ids:\n",
    "        fig0 = plt.figure(figsize=(2,2)) \n",
    "        plt.matshow(digits.images[id0],fignum=0) \n",
    "        plt.show()\n",
    "        ret.append(int(input(\"请输入这个样本的标签：\")))\n",
    "        display.clear_output(wait=True)      # 动态刷新输出\n",
    "    return np.array(ret)"
   ]
  },
  {
   "cell_type": "code",
   "execution_count": 15,
   "metadata": {
    "slideshow": {
     "slide_type": "skip"
    }
   },
   "outputs": [],
   "source": [
    "def annotate():\n",
    "    batch_size = 5\n",
    "    rounds = 3\n",
    "    results = []\n",
    "\n",
    "    clf = LogisticRegression()\n",
    "    anno_batch = RS(x,batch_size)\n",
    "    x_train = x[anno_batch]\n",
    "    y_train = human_annotate(anno_batch)\n",
    "    for i in range(rounds-1):\n",
    "        clf.fit(x_train,y_train)\n",
    "        prec = clf.score(x,y)\n",
    "        print(f\"round {i}, prec:{prec}\")\n",
    "        results.append(prec)\n",
    "        proba = clf.predict_proba(x)\n",
    "        sorted_proba = np.sort(proba,axis=1)\n",
    "        anno_batch = BT(proba,batch_size)\n",
    "        x_train = np.concatenate([x_train,x[anno_batch]])\n",
    "        y_train = np.concatenate([y_train,human_annotate(anno_batch)])\n",
    "    clf.fit(x_train,y_train)\n",
    "    prec = clf.score(x,y)\n",
    "    print(f\"round {rounds}, prec:{prec}\")\n",
    "    results.append(prec)\n",
    "    pd.Series(results).plot()\n",
    "    plt.show()"
   ]
  },
  {
   "cell_type": "code",
   "execution_count": 20,
   "metadata": {
    "slideshow": {
     "slide_type": "subslide"
    }
   },
   "outputs": [
    {
     "name": "stdout",
     "output_type": "stream",
     "text": [
      "round 3, prec:0.7006121313299944\n"
     ]
    },
    {
     "data": {
      "image/png": "[encoded data removed]",
      "text/plain": [
       "<matplotlib.figure.Figure at 0x1f3f330d550>"
      ]
     },
     "metadata": {},
     "output_type": "display_data"
    }
   ],
   "source": [
    "annotate()"
   ]
  }
 ],
 "metadata": {
  "_draft": {
   "nbviewer_url": "https://gist.github.com/58ed43a7f0830754ce89ac98c2d292f4"
  },
  "celltoolbar": "幻灯片",
  "gist": {
   "data": {
    "description": "active learning2_slide.ipynb",
    "public": true
   },
   "id": "58ed43a7f0830754ce89ac98c2d292f4"
  },
  "kernelspec": {
   "display_name": "Python [conda env:py36]",
   "language": "python",
   "name": "conda-env-py36-py"
  },
  "language_info": {
   "codemirror_mode": {
    "name": "ipython",
    "version": 3
   },
   "file_extension": ".py",
   "mimetype": "text/x-python",
   "name": "python",
   "nbconvert_exporter": "python",
   "pygments_lexer": "ipython3",
   "version": "3.6.2"
  },
  "toc": {
   "base_numbering": 1,
   "nav_menu": {
    "height": "12px",
    "width": "160px"
   },
   "number_sections": true,
   "sideBar": true,
   "skip_h1_title": false,
   "title_cell": "Table of Contents",
   "title_sidebar": "Contents",
   "toc_cell": false,
   "toc_position": {},
   "toc_section_display": true,
   "toc_window_display": false
  }
 },
 "nbformat": 4,
 "nbformat_minor": 2
}
